{
 "cells": [
  {
   "cell_type": "code",
   "execution_count": 4,
   "id": "d2c42e1d",
   "metadata": {},
   "outputs": [],
   "source": [
    "import numpy as np"
   ]
  },
  {
   "cell_type": "code",
   "execution_count": 13,
   "id": "43cbe510",
   "metadata": {},
   "outputs": [
    {
     "name": "stdout",
     "output_type": "stream",
     "text": [
      "[14.41217953  3.89363369 19.77581312 17.65627645 19.07805013 17.67194984\n",
      " 10.71079693  3.98680107  4.13422852  8.64945559 12.19291007 12.7513806\n",
      "  1.21535447 11.82156429  4.11290264]\n"
     ]
    }
   ],
   "source": [
    "a=np.random.uniform(1,20,15)\n",
    "print(a)"
   ]
  },
  {
   "cell_type": "code",
   "execution_count": 14,
   "id": "c3c5a616",
   "metadata": {},
   "outputs": [
    {
     "name": "stdout",
     "output_type": "stream",
     "text": [
      "Array : [14.41217953  3.89363369 19.77581312 17.65627645 19.07805013 17.67194984\n",
      " 10.71079693  3.98680107  4.13422852  8.64945559 12.19291007 12.7513806\n",
      "  1.21535447 11.82156429  4.11290264]\n",
      "First Reshaped Array 3 x 5 : \n",
      "[[14.41217953  3.89363369 19.77581312 17.65627645 19.07805013]\n",
      " [17.67194984 10.71079693  3.98680107  4.13422852  8.64945559]\n",
      " [12.19291007 12.7513806   1.21535447 11.82156429  4.11290264]]\n"
     ]
    }
   ],
   "source": [
    "import numpy as np\n",
    "array = a;\n",
    "print(\"Array : \" + str(array))\n",
    "n = array.size\n",
    "N = 3\n",
    "M = n//N\n",
    "reshaped = array.reshape((N, M))\n",
    "print(\"First Reshaped Array 3 x 5 : \")\n",
    "print(reshaped)"
   ]
  },
  {
   "cell_type": "code",
   "execution_count": 15,
   "id": "121d5a2d",
   "metadata": {},
   "outputs": [
    {
     "name": "stdout",
     "output_type": "stream",
     "text": [
      "[[14.41217953  3.89363369  0.         17.65627645 19.07805013]\n",
      " [ 0.         10.71079693  3.98680107  4.13422852  8.64945559]\n",
      " [12.19291007  0.          1.21535447 11.82156429  4.11290264]]\n"
     ]
    }
   ],
   "source": [
    "a = reshaped\n",
    "b = a\n",
    "b[np.arange(len(a)), a.argmax(1)] = 0\n",
    "print(b)"
   ]
  },
  {
   "cell_type": "code",
   "execution_count": null,
   "id": "f3ecc326",
   "metadata": {},
   "outputs": [],
   "source": []
  }
 ],
 "metadata": {
  "kernelspec": {
   "display_name": "Python 3 (ipykernel)",
   "language": "python",
   "name": "python3"
  },
  "language_info": {
   "codemirror_mode": {
    "name": "ipython",
    "version": 3
   },
   "file_extension": ".py",
   "mimetype": "text/x-python",
   "name": "python",
   "nbconvert_exporter": "python",
   "pygments_lexer": "ipython3",
   "version": "3.9.13"
  }
 },
 "nbformat": 4,
 "nbformat_minor": 5
}
